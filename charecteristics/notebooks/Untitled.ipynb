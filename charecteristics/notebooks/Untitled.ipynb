{
 "cells": [
  {
   "cell_type": "code",
   "execution_count": 34,
   "id": "e5c6f46f",
   "metadata": {},
   "outputs": [],
   "source": [
    "import torch\n",
    "import numpy as np\n",
    "from ogb.nodeproppred import DglNodePropPredDataset\n",
    "import os\n",
    "from os.path import exists\n",
    "import dgl\n",
    "import time \n",
    "\n",
    "from os.path import exists\n",
    "\n",
    "def get_data_dir():\n",
    "    import os\n",
    "    username = os.environ['USER']\n",
    "    DATA_DIR = None\n",
    "    if username == 'spolisetty_umass_edu':\n",
    "        DATA_DIR = \"/work/spolisetty_umass_edu/data\"\n",
    "    if username == \"spolisetty\":\n",
    "        DATA_DIR = \"/data/sandeep\"\n",
    "    if username == \"q91\":\n",
    "        DATA_DIR = \"/mnt/bigdata/sandeep\"\n",
    "    if username == \"ubuntu\":\n",
    "        # AWS \n",
    "        DATA_DIR = \"/home/ubuntu/data\"     \n",
    "    assert(DATA_DIR != None)\n",
    "    return DATA_DIR\n",
    "\n",
    "ROOT_DIR = get_data_dir()"
   ]
  },
  {
   "cell_type": "code",
   "execution_count": 35,
   "id": "bbaad195",
   "metadata": {},
   "outputs": [
    {
     "name": "stdout",
     "output_type": "stream",
     "text": [
      "Train torch.Size([90941])\n",
      "Val torch.Size([29799])\n",
      "Test torch.Size([48603])\n"
     ]
    }
   ],
   "source": [
    "name = \"ogbn-arxiv\"\n",
    "\n",
    "TARGET_DIR = ROOT_DIR +\"/\" + name\n",
    "\n",
    "dataset = DglNodePropPredDataset(name, root=ROOT_DIR)\n",
    "graph, labels = dataset[0]\n",
    "edges = graph.edges()\n",
    "graph.remove_edges(torch.where(edges[0] == edges[1])[0])\n",
    "edges = graph.edges()\n",
    "num_edges = graph.num_edges()\n",
    "num_nodes = graph.num_nodes()\n",
    "assert(num_edges == edges[0].shape[0])\n",
    "features = graph.ndata['feat']\n",
    "assert features.shape[0] == num_nodes\n",
    "\n",
    "split_idx = dataset.get_idx_split()\n",
    "train_idx = split_idx['train']\n",
    "val_idx = split_idx['valid']\n",
    "test_idx = split_idx['test']\n",
    "\n",
    "print(\"Train\", train_idx.shape)\n",
    "print(\"Val\", val_idx.shape)\n",
    "print(\"Test\", test_idx.shape)\n"
   ]
  },
  {
   "cell_type": "code",
   "execution_count": 36,
   "id": "14de3073",
   "metadata": {},
   "outputs": [],
   "source": [
    "num_partitions = 4\n",
    "p_map = (np.fromfile(TARGET_DIR + f'/partition_map_opt_{num_partitions}.bin', dtype = np.int32))\n",
    "partition_map = torch.from_numpy(p_map)\n"
   ]
  },
  {
   "cell_type": "code",
   "execution_count": 46,
   "id": "0deb49e4",
   "metadata": {},
   "outputs": [],
   "source": [
    " new_order = None\n",
    "degrees = graph.out_degrees()\n",
    "ordered_partition_nodes = []\n",
    "partition_offsets = [0]\n",
    "for i in range(num_partitions):\n",
    "    nodes_in_partition = torch.where(partition_map == i)[0]\n",
    "    _, indices = torch.sort(degrees[nodes_in_partition], descending = True)\n",
    "    ordered_partition_nodes.append(nodes_in_partition[indices])\n",
    "    partition_offsets.append(partition_offsets[-1] + indices.shape[0])\n",
    "    \n",
    "new_to_old_order = torch.cat(ordered_partition_nodes, dim = 0)    \n",
    "values, old_to_new_order = torch.sort(new_to_old_order)\n",
    "assert(torch.all(torch.arange(graph.num_nodes()) == values))"
   ]
  },
  {
   "cell_type": "code",
   "execution_count": 48,
   "id": "b1e7ed28",
   "metadata": {},
   "outputs": [
    {
     "name": "stdout",
     "output_type": "stream",
     "text": [
      "tensor([ 4,  5, 28,  8, 27, 34,  6,  4,  3, 28])\n",
      "tensor([ 4,  5, 28,  8, 27, 34,  6,  4,  3, 28])\n"
     ]
    }
   ],
   "source": [
    "labels = labels.flatten()\n",
    "print(labels[train_idx][:10])\n",
    "new_labels = labels[new_to_old_order]\n",
    "new_train_idx = old_to_new_order[train_idx]\n",
    "print(new_labels[new_train_idx][:10])"
   ]
  }
 ],
 "metadata": {
  "kernelspec": {
   "display_name": "Python 3 (ipykernel)",
   "language": "python",
   "name": "python3"
  },
  "language_info": {
   "codemirror_mode": {
    "name": "ipython",
    "version": 3
   },
   "file_extension": ".py",
   "mimetype": "text/x-python",
   "name": "python",
   "nbconvert_exporter": "python",
   "pygments_lexer": "ipython3",
   "version": "3.10.11"
  }
 },
 "nbformat": 4,
 "nbformat_minor": 5
}
