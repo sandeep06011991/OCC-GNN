{
 "cells": [
  {
   "cell_type": "code",
   "execution_count": 1,
   "id": "1cf209b1",
   "metadata": {},
   "outputs": [],
   "source": [
    "import torch\n",
    "import dgl"
   ]
  },
  {
   "cell_type": "code",
   "execution_count": 11,
   "id": "cec67be9",
   "metadata": {},
   "outputs": [
    {
     "name": "stdout",
     "output_type": "stream",
     "text": [
      "{'num_nodes': 169343, 'num_edges': 1166243, 'csum_features': 444010, 'feature_dim': 128, 'csum_labels': 3501834, 'csum_train': 8067583445, 'csum_test': 2444589568, 'csum_offsets': 110140692313, 'csum_edges': 81107407091, 'num_classes': 40, 'fbytes': 32}\n",
      "[0, 43580, 87187, 129587, 169343]\n"
     ]
    }
   ],
   "source": [
    "graph_name = \"ogbn-arxiv\"\n",
    "TARGET_DIR = \"/home/ubuntu/data/\" + graph_name\n",
    "cache_size_in_GB = \"1\"\n",
    "with open(TARGET_DIR + \"/meta.txt\",'r') as fp:\n",
    "    lines = fp.readlines()\n",
    "meta = {}\n",
    "for line in lines:\n",
    "    k, v = line.split(\"=\")\n",
    "    meta[k] = int(v)\n",
    "\n",
    "with open(TARGET_DIR + \"/partition_offsets.txt\", 'r') as fp:\n",
    "    lines = fp.readlines()\n",
    "partition_offsets = lines[0].split(\",\")    \n",
    "partition_offsets = [int(i) for i in partition_offsets]\n",
    "print(meta)\n",
    "print(partition_offsets)"
   ]
  },
  {
   "cell_type": "code",
   "execution_count": 12,
   "id": "c1273dc7",
   "metadata": {},
   "outputs": [
    {
     "name": "stdout",
     "output_type": "stream",
     "text": [
      "TODO: Refactor this not all function calls require the graph to be read\n",
      "169343 1166243 40 CLASS\n",
      "tensor([0, 1, 2, 2, 2, 2, 3, 3, 3, 3])\n",
      "Using 32\n",
      "Scipy created\n",
      "DG Graph Created\n",
      "All data created\n",
      "Total time to read the graph 0.08505702018737793\n"
     ]
    }
   ],
   "source": [
    "from utils import utils\n",
    "graphname = \"ogbn-arxiv\"\n",
    "g = utils.get_process_graph(graphname, -1, 4)"
   ]
  },
  {
   "cell_type": "code",
   "execution_count": 13,
   "id": "5b283129",
   "metadata": {},
   "outputs": [],
   "source": [
    "train_nodes = g[0].ndata['train_mask'].nonzero().flatten()\n",
    "valid_nodes = g[0].ndata['val_mask'].nonzero().flatten()"
   ]
  },
  {
   "cell_type": "code",
   "execution_count": 18,
   "id": "8acd3f3e",
   "metadata": {},
   "outputs": [
    {
     "name": "stdout",
     "output_type": "stream",
     "text": [
      "partition:0,  training nodes 23418, validation nodes 7884\n",
      "partition:1,  training nodes 23418, validation nodes 7664\n",
      "partition:2,  training nodes 23418, validation nodes 6860\n",
      "partition:3,  training nodes 20687, validation nodes 7391\n"
     ]
    }
   ],
   "source": [
    "for gpu_id in range(4):\n",
    "    num_train = torch.sum((train_nodes >= partition_offsets[gpu_id]) & \\\n",
    "                             (train_nodes < partition_offsets[gpu_id + 1]))\n",
    "    num_valid = torch.sum((valid_nodes >= partition_offsets[gpu_id]) & \\\n",
    "                             (valid_nodes < partition_offsets[gpu_id + 1]))\n",
    "    print(f\"partition:{gpu_id},  training nodes {num_train}, validation nodes {num_valid}\")"
   ]
  },
  {
   "cell_type": "code",
   "execution_count": 60,
   "id": "1294767a",
   "metadata": {},
   "outputs": [],
   "source": []
  },
  {
   "cell_type": "code",
   "execution_count": null,
   "id": "291dcb88",
   "metadata": {},
   "outputs": [],
   "source": []
  }
 ],
 "metadata": {
  "kernelspec": {
   "display_name": "Python 3 (ipykernel)",
   "language": "python",
   "name": "python3"
  },
  "language_info": {
   "codemirror_mode": {
    "name": "ipython",
    "version": 3
   },
   "file_extension": ".py",
   "mimetype": "text/x-python",
   "name": "python",
   "nbconvert_exporter": "python",
   "pygments_lexer": "ipython3",
   "version": "3.10.11"
  }
 },
 "nbformat": 4,
 "nbformat_minor": 5
}
