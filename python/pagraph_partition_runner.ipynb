{
 "cells": [
  {
   "cell_type": "code",
   "execution_count": 1,
   "metadata": {},
   "outputs": [],
   "source": [
    "# Put in PaGraph/partition/\n",
    "# Remove data import in both dg.py and ordering.py\n",
    "# \n",
    "import ordering\n",
    "from dg import dg\n",
    "from ogb.nodeproppred import DglNodePropPredDataset\n",
    "import numpy as np\n",
    "import os"
   ]
  },
  {
   "cell_type": "code",
   "execution_count": 2,
   "metadata": {},
   "outputs": [],
   "source": [
    "ROOT_DIR = '/data/sandeep'\n",
    "PAGRAPH_DIR = '/data/sandeep/pagraph/'\n",
    "FILENAME = 'obgn_arxiv'\n",
    "dataset = DglNodePropPredDataset('ogbn-arxiv',root=ROOT_DIR)\n",
    "graph = dataset[0][0]\n",
    "graph = graph.add_self_loop()\n",
    "split_idx = dataset.get_idx_split()"
   ]
  },
  {
   "cell_type": "code",
   "execution_count": 3,
   "metadata": {},
   "outputs": [],
   "source": [
    "scipyCOO = graph.adj(scipy_fmt='coo')\n",
    "scipyCSR = scipyCOO.tocsc()"
   ]
  },
  {
   "cell_type": "code",
   "execution_count": 4,
   "metadata": {},
   "outputs": [
    {
     "name": "stdout",
     "output_type": "stream",
     "text": [
      "=>99%\n"
     ]
    }
   ],
   "source": [
    "adj, vmap = ordering.reordering(scipyCSR, depth=3)"
   ]
  },
  {
   "cell_type": "code",
   "execution_count": 5,
   "metadata": {},
   "outputs": [],
   "source": [
    "train_nids = split_idx['train']\n",
    "train_nids = np.sort(vmap[train_nids])"
   ]
  },
  {
   "cell_type": "code",
   "execution_count": 6,
   "metadata": {},
   "outputs": [
    {
     "name": "stdout",
     "output_type": "stream",
     "text": [
      "total vertices: 169343 | train vertices: 90941\n",
      "=>99%\n",
      "vertex# with self-reliance:  126904\n",
      "vertex# w/o  self-reliance:  22702\n",
      "vertex# with self-reliance:  126070\n",
      "vertex# w/o  self-reliance:  22734\n",
      "vertex# with self-reliance:  124972\n",
      "vertex# w/o  self-reliance:  22776\n",
      "vertex# with self-reliance:  126197\n",
      "vertex# w/o  self-reliance:  22729\n"
     ]
    }
   ],
   "source": [
    "p_v, p_trainv = dg(4, adj, train_nids, 3)"
   ]
  },
  {
   "cell_type": "code",
   "execution_count": 8,
   "metadata": {},
   "outputs": [
    {
     "name": "stderr",
     "output_type": "stream",
     "text": [
      "/home/jfalus/OCC-GNN/venv/lib/python3.8/site-packages/numpy/core/_asarray.py:136: VisibleDeprecationWarning: Creating an ndarray from ragged nested sequences (which is a list-or-tuple of lists-or-tuples-or ndarrays with different lengths or shapes) is deprecated. If you meant to do this, you must specify 'dtype=object' when creating the ndarray\n",
      "  return array(a, dtype, copy=False, order=order, subok=True)\n"
     ]
    }
   ],
   "source": [
    "np.save(PAGRAPH_DIR+FILENAME + '_p_v', p_v)\n",
    "np.save(PAGRAPH_DIR+FILENAME + '_p_trainv', p_trainv)"
   ]
  },
  {
   "cell_type": "code",
   "execution_count": 10,
   "metadata": {},
   "outputs": [
    {
     "name": "stdout",
     "output_type": "stream",
     "text": [
      "[array([     0,      1,      2, ..., 169339, 169340, 169342])\n",
      " array([     1,      2,      3, ..., 169340, 169341, 169342])\n",
      " array([     1,      2,      3, ..., 169338, 169341, 169342])\n",
      " array([     0,      1,      2, ..., 169338, 169339, 169340])]\n",
      "[array([     3,      4,      6, ..., 169255, 169312, 169316])\n",
      " array([     2,      5,      8, ..., 169309, 169314, 169318])\n",
      " array([     1,      7,      9, ..., 169311, 169315, 169321])\n",
      " array([     0,     10,     18, ..., 169307, 169313, 169317])]\n"
     ]
    }
   ],
   "source": [
    "x=np.load(PAGRAPH_DIR+FILENAME + '_p_v'+'.npy', allow_pickle=True)\n",
    "y=np.load(PAGRAPH_DIR+FILENAME + '_p_trainv'+'.npy', allow_pickle=True)"
   ]
  }
 ],
 "metadata": {
  "kernelspec": {
   "display_name": "Python 3.8.10 ('venv': venv)",
   "language": "python",
   "name": "python3"
  },
  "language_info": {
   "codemirror_mode": {
    "name": "ipython",
    "version": 3
   },
   "file_extension": ".py",
   "mimetype": "text/x-python",
   "name": "python",
   "nbconvert_exporter": "python",
   "pygments_lexer": "ipython3",
   "version": "3.8.10"
  },
  "orig_nbformat": 4,
  "vscode": {
   "interpreter": {
    "hash": "c8a160c465bd5ed6a286b339f72813dfe6751b96e441a8889050b0620c76f2af"
   }
  }
 },
 "nbformat": 4,
 "nbformat_minor": 2
}
