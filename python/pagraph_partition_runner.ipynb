{
 "cells": [
  {
   "cell_type": "code",
   "execution_count": 1,
   "metadata": {},
   "outputs": [],
   "source": [
    "# Put in PaGraph/partition/\n",
    "# Remove data import in both dg.py and ordering.py\n",
    "# \n",
    "import ordering\n",
    "from dg import dg\n",
    "from ogb.nodeproppred import DglNodePropPredDataset\n",
    "import numpy as np"
   ]
  },
  {
   "cell_type": "code",
   "execution_count": 2,
   "metadata": {},
   "outputs": [],
   "source": [
    "ROOT_DIR = '/data/sandeep'\n",
    "PAGRAPH_DIR = '/data/sandeep/pagraph'\n",
    "dataset = DglNodePropPredDataset('ogbn-arxiv',root=ROOT_DIR)\n",
    "graph = dataset[0][0]\n",
    "graph = graph.add_self_loop()\n",
    "split_idx = dataset.get_idx_split()"
   ]
  },
  {
   "cell_type": "code",
   "execution_count": 3,
   "metadata": {},
   "outputs": [],
   "source": [
    "scipyCOO = graph.adj(scipy_fmt='coo')\n",
    "scipyCSR = scipyCOO.tocsc()"
   ]
  },
  {
   "cell_type": "code",
   "execution_count": 4,
   "metadata": {},
   "outputs": [
    {
     "name": "stdout",
     "output_type": "stream",
     "text": [
      "=>99%\n"
     ]
    }
   ],
   "source": [
    "adj, vmap = ordering.reordering(scipyCSR, depth=3)"
   ]
  },
  {
   "cell_type": "code",
   "execution_count": 5,
   "metadata": {},
   "outputs": [],
   "source": [
    "train_nids = split_idx['train']\n",
    "train_nids = np.sort(vmap[train_nids])"
   ]
  },
  {
   "cell_type": "code",
   "execution_count": 6,
   "metadata": {},
   "outputs": [
    {
     "name": "stdout",
     "output_type": "stream",
     "text": [
      "total vertices: 169343 | train vertices: 90941\n",
      "=>99%\n",
      "vertex# with self-reliance:  126904\n",
      "vertex# w/o  self-reliance:  22702\n",
      "vertex# with self-reliance:  126070\n",
      "vertex# w/o  self-reliance:  22734\n",
      "vertex# with self-reliance:  124972\n",
      "vertex# w/o  self-reliance:  22776\n",
      "vertex# with self-reliance:  126197\n",
      "vertex# w/o  self-reliance:  22729\n"
     ]
    }
   ],
   "source": [
    "p_v, p_trainv = dg(4, adj, train_nids, 3)"
   ]
  },
  {
   "cell_type": "code",
   "execution_count": 51,
   "metadata": {},
   "outputs": [
    {
     "name": "stdout",
     "output_type": "stream",
     "text": [
      "[   371   9137  38093  46585  49280  63174  74486  85597  92744  96778\n",
      " 100567 111326 120060 126704 132526 141791 143095 145787 147852 151709\n",
      " 158560]\n"
     ]
    }
   ],
   "source": [
    "def get_neighs(nid,depth):\n",
    "  neighs = [nid]\n",
    "  new_neighs = []\n",
    "  for _ in range(depth):\n",
    "    for i in neighs:\n",
    "      new_neighs.extend(graph.out_edges(i)[1].tolist())\n",
    "    neighs = np.unique(new_neighs)\n",
    "    new_neighs = []\n",
    "  return neighs\n",
    "\n",
    "print(get_neighs(371,3))\n",
    "  "
   ]
  },
  {
   "cell_type": "code",
   "execution_count": 44,
   "metadata": {},
   "outputs": [],
   "source": [
    "res = dict()\n",
    "for i in range(graph.number_of_nodes()):\n",
    "  if i not in train_nids:\n",
    "    continue\n",
    "  res[i] = [j for j in range(4) if i in p_v[j]]\n",
    "  if len(res[i]) == 0:\n",
    "    print(\"NODE\",i)"
   ]
  },
  {
   "cell_type": "code",
   "execution_count": 47,
   "metadata": {},
   "outputs": [
    {
     "data": {
      "text/plain": [
       "[0.7654872060899254,\n",
       " 0.7604565031185533,\n",
       " 0.7538333474080419,\n",
       " 0.7612225693983665]"
      ]
     },
     "execution_count": 47,
     "metadata": {},
     "output_type": "execute_result"
    }
   ],
   "source": [
    "all_nodes = []\n",
    "for i in p_v:\n",
    "  all_nodes.extend(i.tolist())\n",
    "all_nodes = np.unique(all_nodes)\n",
    "\n",
    "cache_rate = [len(i)/len(all_nodes) for i in p_v]\n",
    "cache_rate"
   ]
  }
 ],
 "metadata": {
  "kernelspec": {
   "display_name": "Python 3.8.10 ('venv': venv)",
   "language": "python",
   "name": "python3"
  },
  "language_info": {
   "codemirror_mode": {
    "name": "ipython",
    "version": 3
   },
   "file_extension": ".py",
   "mimetype": "text/x-python",
   "name": "python",
   "nbconvert_exporter": "python",
   "pygments_lexer": "ipython3",
   "version": "3.8.10"
  },
  "orig_nbformat": 4,
  "vscode": {
   "interpreter": {
    "hash": "c8a160c465bd5ed6a286b339f72813dfe6751b96e441a8889050b0620c76f2af"
   }
  }
 },
 "nbformat": 4,
 "nbformat_minor": 2
}
