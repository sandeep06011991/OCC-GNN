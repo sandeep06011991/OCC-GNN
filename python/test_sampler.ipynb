{
 "cells": [
  {
   "cell_type": "code",
   "execution_count": 1,
   "metadata": {},
   "outputs": [],
   "source": [
    "import torch\n",
    "import time\n",
    "from dgl.sampling import sample_neighbors\n",
    "from utils.utils import get_process_graph\n",
    "from pyvis.network import Network"
   ]
  },
  {
   "cell_type": "code",
   "execution_count": 2,
   "metadata": {},
   "outputs": [
    {
     "name": "stdout",
     "output_type": "stream",
     "text": [
      "169343 1166243\n"
     ]
    }
   ],
   "source": [
    "graph,features,_ = get_process_graph('ogbn-arxiv', -1)\n",
    "\n",
    "batch = torch.arange(graph.num_nodes())"
   ]
  },
  {
   "cell_type": "code",
   "execution_count": 3,
   "metadata": {},
   "outputs": [],
   "source": [
    "def sample(graph, batch_in):\n",
    "    layers = []\n",
    "    blocks = []\n",
    "    # Note. Dont forget self loops otherwise GAT doesnt work.\n",
    "    # Create bipartite graphs for the first l-1 layers\n",
    "    last_layer = batch_in\n",
    "    last_layer = last_layer.unique()\n",
    "    layers.append(last_layer)\n",
    "    iterations = len(batch_in)\n",
    "    fanout_factor = 1.5\n",
    "    for i in range(iterations):\n",
    "        fanout = int(7)\n",
    "        print(fanout,i,len(last_layer))\n",
    "        dest_ids,src_ids = sample_neighbors(graph, last_layer, fanout).edges()\n",
    "        self_loop_dests = torch.cat([last_layer, dest_ids])\n",
    "        edges = self_loop_dests, torch.cat([last_layer, src_ids])\n",
    "        last_layer = torch.unique(self_loop_dests)\n",
    "        layers.append(last_layer)\n",
    "        blocks.append(edges)\n",
    "    return layers,blocks"
   ]
  },
  {
   "cell_type": "code",
   "execution_count": 9,
   "metadata": {},
   "outputs": [
    {
     "name": "stdout",
     "output_type": "stream",
     "text": [
      "7 0 4\n",
      "7 1 19\n",
      "7 2 85\n",
      "7 3 242\n"
     ]
    }
   ],
   "source": [
    "num_graphs = 4\n",
    "\n",
    "layers,blocks = sample(graph, batch[0:num_graphs])\n",
    "\n",
    "for offset in range(0,num_graphs):\n",
    "\n",
    "  l1 = layers[offset].tolist()\n",
    "  l2 = layers[offset+1].tolist()\n",
    "  b2,b1 = map(lambda x: x.tolist(),blocks[offset])\n",
    "\n",
    "  l1Max = max(l1)+1\n",
    "  l2Added = [x + l1Max for x in l2]\n",
    "  b2Added = [x + l1Max for x in b2]\n",
    "\n",
    "  l1Label = [str(x) for x in l1]\n",
    "  l2Label = [str(x) for x in l2]\n",
    "\n",
    "  colors = ['red','blue','green','purple']\n",
    "\n",
    "  l1Colors = [colors[features[x]] for x in l1]\n",
    "  l2Colors = [colors[features[x]] for x in l2]\n",
    "\n",
    "  net = Network(notebook=True, directed=True)\n",
    "  \n",
    "  net.add_nodes(l1,label=l1Label,color=l1Colors,shape=['triangle']*len(l1))\n",
    "  net.add_nodes(l2Added,label=l2Label,color=l2Colors)\n",
    "    \n",
    "  net.add_edges(list(zip(b1,b2Added)))\n",
    "  \n",
    "  # net.toggle_physics(False)\n",
    "\n",
    "  net.show(\"graphs/graph {}.html\".format(offset))"
   ]
  }
 ],
 "metadata": {
  "kernelspec": {
   "display_name": "Python 3.8.10 ('venv': venv)",
   "language": "python",
   "name": "python3"
  },
  "language_info": {
   "codemirror_mode": {
    "name": "ipython",
    "version": 3
   },
   "file_extension": ".py",
   "mimetype": "text/x-python",
   "name": "python",
   "nbconvert_exporter": "python",
   "pygments_lexer": "ipython3",
   "version": "3.8.10"
  },
  "orig_nbformat": 4,
  "vscode": {
   "interpreter": {
    "hash": "c8a160c465bd5ed6a286b339f72813dfe6751b96e441a8889050b0620c76f2af"
   }
  }
 },
 "nbformat": 4,
 "nbformat_minor": 2
}
